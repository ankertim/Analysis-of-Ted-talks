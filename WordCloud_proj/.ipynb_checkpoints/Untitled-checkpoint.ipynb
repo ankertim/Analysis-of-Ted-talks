{
 "cells": [
  {
   "cell_type": "code",
   "execution_count": 18,
   "id": "single-decision",
   "metadata": {},
   "outputs": [],
   "source": [
    "import matplotlib.pyplot as plt\n",
    "import numpy as np\n",
    "from PIL import Image\n",
    "from wordcloud import WordCloud, ImageColorGenerator, STOPWORDS\n",
    "from scipy.ndimage import gaussian_gradient_magnitude\n",
    "import imageio\n",
    "import pandas as pd\n",
    "import random\n",
    "import nltk\n",
    "#nltk.download('punkt')"
   ]
  },
  {
   "cell_type": "code",
   "execution_count": 3,
   "id": "later-german",
   "metadata": {},
   "outputs": [],
   "source": [
    "from nltk.corpus import stopwords\n",
    "#nltk.download('stopwords')\n",
    "Stopword = nltk.corpus.stopwords.words('english')\n",
    "newStopword = ['!',',','.','?','-s','-ly','</s>','s','(',')','I','He','They','’','n\\'t','We','usually','Some','used']\n",
    "Stopword.extend(newStopword)\n",
    "#print(Stopword)"
   ]
  },
  {
   "cell_type": "markdown",
   "id": "imperial-guest",
   "metadata": {},
   "source": [
    "# 讀語音辨識出來的txt檔"
   ]
  },
  {
   "cell_type": "code",
   "execution_count": 4,
   "id": "expressed-possible",
   "metadata": {},
   "outputs": [],
   "source": [
    "file = 'result.txt' #語音辨識結果\n",
    "with open(file,'r',encoding=\"utf-8\") as f:\n",
    "            text = f.readlines()\n",
    "f.close()\n",
    "#進行斷詞 餵入語音辨識的list\n",
    "text_list = nltk.word_tokenize(text[0])\n",
    "filtered_words = [word for word in text_list if word not in Stopword] #filtered是斷完詞的結果\n",
    "#計算頻率\n",
    "def count_seq(list):\n",
    "    count_df = pd.DataFrame(list,columns=['text'])\n",
    "    count_df['count']=1\n",
    "    set_freq = count_df.groupby('text')['count'].sum().sort_values(ascending=False)\n",
    "    set_freq = pd.DataFrame(set_freq)\n",
    "    set_freq = set_freq[~set_freq['count'].isin([1,2])]\n",
    "    return set_freq\n",
    "\n",
    "freq = count_seq(filtered_words)\n",
    "freq.reset_index(inplace = True)\n",
    "#print the 50 most popular words\n",
    "#print(freq.head(10))"
   ]
  },
  {
   "cell_type": "code",
   "execution_count": 5,
   "id": "promising-decision",
   "metadata": {},
   "outputs": [],
   "source": [
    "#需要Button控制下載\n",
    "freq.to_csv('Freq.csv',index=False)"
   ]
  },
  {
   "cell_type": "code",
   "execution_count": 73,
   "id": "micro-farmer",
   "metadata": {},
   "outputs": [
    {
     "data": {
      "image/png": "[encoded data removed]",
      "text/plain": [
       "<Figure size 432x288 with 1 Axes>"
      ]
     },
     "metadata": {
      "needs_background": "light"
     },
     "output_type": "display_data"
    }
   ],
   "source": [
    "def generate_wordcloud(word_list,mask_pic):\n",
    "    wc_list=' '.join(word_list)\n",
    "\n",
    "    #背景色隨機\n",
    "    color=['#D0D0D0','white','#D9FFFF','#FFD2D2','#E6CAFF','#E8FFC4','#C4E1E1','#EBD6D6','#EBD3E8','#FFF0AC','black']\n",
    "    a = random.randint(0,len(color))\n",
    "    ran = random.randint(10,50)\n",
    "    if mask_pic == 'preset':\n",
    "        wc = WordCloud(max_words=500,\n",
    "                       max_font_size=50,\n",
    "                       min_font_size=10,\n",
    "                       scale=20,\n",
    "                       background_color=color[a],\n",
    "                       prefer_horizontal=0.9,\n",
    "                       random_state=ran,\n",
    "                       relative_scaling=1)\n",
    "    else:\n",
    "        mask_img = imageio.imread('./mask/'+mask)\n",
    "\n",
    "        wc = WordCloud(max_words=500,\n",
    "                       max_font_size=50,\n",
    "                       min_font_size=10,\n",
    "                       scale=20,\n",
    "                       background_color=color[a],\n",
    "                       mask=mask_img,\n",
    "                       prefer_horizontal=0.9,\n",
    "                       random_state=ran,\n",
    "                       relative_scaling=1)\n",
    "\n",
    "    wc.generate(wc_list)\n",
    "    # Plot 顯示在網頁上面\n",
    "    plt.axis('off')\n",
    "    plt.imshow(wc)\n",
    "    plt.show()\n",
    "    \n",
    "#要哪種圖形 可以從web介面的button改變\n",
    "generate_wordcloud(filtered_words,'circle')\n",
    "\n",
    "#存檔 web介面決定是否下載\n",
    "#name=\"C:/Users/User/Desktop/敏捷/test.jpg\"\n",
    "#wc.to_file(name)"
   ]
  },
  {
   "cell_type": "code",
   "execution_count": null,
   "id": "curious-pathology",
   "metadata": {},
   "outputs": [],
   "source": []
  }
 ],
 "metadata": {
  "kernelspec": {
   "display_name": "Python 3",
   "language": "python",
   "name": "python3"
  },
  "language_info": {
   "codemirror_mode": {
    "name": "ipython",
    "version": 3
   },
   "file_extension": ".py",
   "mimetype": "text/x-python",
   "name": "python",
   "nbconvert_exporter": "python",
   "pygments_lexer": "ipython3",
   "version": "3.7.9"
  }
 },
 "nbformat": 4,
 "nbformat_minor": 5
}
